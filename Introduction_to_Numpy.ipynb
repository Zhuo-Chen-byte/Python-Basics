{
  "nbformat": 4,
  "nbformat_minor": 0,
  "metadata": {
    "colab": {
      "name": "Introduction to Numpy.ipynb",
      "provenance": [],
      "collapsed_sections": []
    },
    "kernelspec": {
      "name": "python3",
      "display_name": "Python 3"
    }
  },
  "cells": [
    {
      "cell_type": "markdown",
      "metadata": {
        "id": "U3Yz3s2uio1F"
      },
      "source": [
        "**Q1. Lets consider your data is like the below cell:**\n",
        "\n",
        "**Q1-1**: Write a program that create a dataframe from the data.\n",
        "\n",
        "**Q1-2:** Select people that are psychologist or teacher and their number of cars is greater than their family size.\n",
        "\n",
        "**Q1-3:** Select people who have at most 2 family members and at least 1 car.\n",
        "\n",
        "**Q1-4:** Write a code that get number of unique jobs in this dataset.\n",
        "\n",
        "\n",
        "\n"
      ]
    },
    {
      "cell_type": "code",
      "metadata": {
        "id": "yR8lcOtcjxXD"
      },
      "source": [
        "data = {\"name\": [\"Joseph\", \"Jacob\", \"Sam\", \"Jesee\", \"Ryan\", \"Lisa\", \"Lee\"],\n",
        "        \"job\": [\"teacher\", \"psychologist\", \"data scientist\", \"software developer\", \"psychologist\", \"psychologist\", \"teacher\"],\n",
        "        \"family_size\": [3, 2, 1, 4, 2, 3, 2],\n",
        "        \"num_cars\": [3, 1, 1, 2, 2, 4, 1]}"
      ],
      "execution_count": null,
      "outputs": []
    },
    {
      "cell_type": "markdown",
      "metadata": {
        "id": "9EVH_bVj4lYH"
      },
      "source": [
        ""
      ]
    },
    {
      "cell_type": "code",
      "metadata": {
        "id": "Youi5qMaP34p",
        "colab": {
          "base_uri": "https://localhost:8080/"
        },
        "outputId": "114775ce-d001-412f-e24d-dec7c4237346"
      },
      "source": [
        "# Import pandas\n",
        "import pandas as pd\n",
        "\n",
        "# Q1-1\n",
        "myFrame = pd.DataFrame(data)\n",
        "# Q1-2\n",
        "myFrame[((myFrame[\"job\"] == \"teacher\") | (myFrame[\"job\"] == \"psychologist\")) & (myFrame[\"family_size\"] < myFrame[\"num_cars\"])]\n",
        "# Q1-3\n",
        "myFrame[(myFrame[\"family_size\"] <= 2) & (myFrame[\"num_cars\"]) >= 1]\n",
        "# Q1-4\n",
        "len(pd.unique(myFrame[\"job\"]))"
      ],
      "execution_count": null,
      "outputs": [
        {
          "output_type": "execute_result",
          "data": {
            "text/plain": [
              "4"
            ]
          },
          "metadata": {
            "tags": []
          },
          "execution_count": 121
        }
      ]
    },
    {
      "cell_type": "markdown",
      "metadata": {
        "id": "Ow6nG8k4l91X"
      },
      "source": [
        "**Q2. Lets consider you have two series like the below cell. Compute the mean of weights of each fruit.**"
      ]
    },
    {
      "cell_type": "code",
      "metadata": {
        "id": "u-X_DoOzVLLB"
      },
      "source": [
        "import numpy as np\n",
        "fruit = pd.Series(np.random.choice(['apple', 'banana', 'carrot'], 10))\n",
        "weights = pd.Series(np.linspace(1, 10, 10))"
      ],
      "execution_count": null,
      "outputs": []
    },
    {
      "cell_type": "code",
      "metadata": {
        "id": "S419nzYnpU__",
        "colab": {
          "base_uri": "https://localhost:8080/"
        },
        "outputId": "1c9fd206-b269-4e37-cd0c-0932068df9e9"
      },
      "source": [
        "# Construct the corresponding dataframe\n",
        "myFrame = pd.DataFrame(columns = [\"fruit\", \"weights\"])\n",
        "myFrame[\"fruit\"] = fruit\n",
        "myFrame[\"weights\"] = weights\n",
        "\n",
        "# Calculating and Printing -- remember to address the 0 cases\n",
        "print(\"Apples' average weight is \", end = '')\n",
        "if np.sum(myFrame[myFrame[\"fruit\"] == \"apple\"].weights):\n",
        "  print(str(np.mean(myFrame[myFrame[\"fruit\"] == \"apple\"].weights)))\n",
        "else:\n",
        "  print(0)\n",
        "\n",
        "print(\"Bananas' average weight is \", end = '')\n",
        "if np.sum(myFrame[myFrame[\"fruit\"] == \"banana\"].weights):\n",
        "  print(str(np.mean(myFrame[myFrame[\"fruit\"] == \"banana\"].weights)))\n",
        "else:\n",
        "  print(0)\n",
        "\n",
        "print(\"Carrots' average weight is \", end = '')\n",
        "if np.sum(myFrame[myFrame[\"fruit\"] == \"carrot\"].weights):\n",
        "  print(str(np.mean(myFrame[myFrame[\"fruit\"] == \"carrot\"].weights)))\n",
        "else:\n",
        "  print(0)"
      ],
      "execution_count": null,
      "outputs": [
        {
          "output_type": "stream",
          "text": [
            "Apples' average weight is 5.0\n",
            "Bananas' average weight is 6.666666666666667\n",
            "Carrots' average weight is 5.0\n"
          ],
          "name": "stdout"
        }
      ]
    },
    {
      "cell_type": "markdown",
      "metadata": {
        "id": "g4lKaPIhtVrt"
      },
      "source": [
        "**Q3. Consider the below course_name array:**\n",
        "\n",
        "**Q3-1**: Write a NumPy program to get the indices of the sorted elements of **course_name** array.\n",
        "\n",
        "**Q3-2:** Write numpy code to check whether each element of **course_name** array starts with \"P\".\n"
      ]
    },
    {
      "cell_type": "code",
      "metadata": {
        "id": "RUP_jp2KtVrx"
      },
      "source": [
        "import numpy as np\n",
        "course_name = np.array(['Python', 'JS', 'examples', 'PHP', 'html'])"
      ],
      "execution_count": null,
      "outputs": []
    },
    {
      "cell_type": "code",
      "metadata": {
        "id": "U1i27POxv-o_",
        "colab": {
          "base_uri": "https://localhost:8080/"
        },
        "outputId": "a39eb07a-f447-483f-85e1-64dca8440b9a"
      },
      "source": [
        "# Q3-1\n",
        "print(np.where(np.sort(course_name)))\n",
        "print(np.sort(course_name)[np.where(np.sort(course_name))])\n",
        "\n",
        "# Q3-2\n",
        "ifStartWithLetterP = np.char.startswith(course_name, 'P')\n",
        "print(len(ifStartWithLetterP[ifStartWithLetterP == True]) == len(course_name))"
      ],
      "execution_count": null,
      "outputs": [
        {
          "output_type": "stream",
          "text": [
            "(array([0, 1, 2, 3, 4]),)\n",
            "['JS' 'PHP' 'Python' 'examples' 'html']\n",
            "False\n"
          ],
          "name": "stdout"
        }
      ]
    },
    {
      "cell_type": "markdown",
      "metadata": {
        "id": "sUFItNFOxwkz"
      },
      "source": [
        "**Q4. Consider the below student_id array:**\n",
        "\n",
        "**Q4-1:** Reverse the **student_id** array. Print both original and reversed array.\n",
        "\n",
        "**Q4-2:** Get the 3-largest values of **student_id** array."
      ]
    },
    {
      "cell_type": "code",
      "metadata": {
        "id": "Rl5qzEjFv0nw"
      },
      "source": [
        "import numpy as np\n",
        "student_id = np.array([1023, 5202, 6230, 1671, 1682, 5241, 4532])"
      ],
      "execution_count": null,
      "outputs": []
    },
    {
      "cell_type": "code",
      "metadata": {
        "id": "EetvHGrUxMCC",
        "colab": {
          "base_uri": "https://localhost:8080/"
        },
        "outputId": "bab1820b-b49e-437e-c091-58f89b0cfdfe"
      },
      "source": [
        "# Q4-1\n",
        "reversed_student_id = np.flip(student_id, 0)\n",
        "print(student_id)\n",
        "print(reversed_student_id)\n",
        "\n",
        "# Q4-2\n",
        "sorted_student_id = np.sort(student_id)\n",
        "print(\"The largest element of the student_id array is \" +  str(sorted_student_id[-1]))\n",
        "print(\"The second largest element of the student_id array is \" + str(sorted_student_id[-2]))\n",
        "print(\"The third largest element of the student_id array is \" + str(sorted_student_id[-3]))"
      ],
      "execution_count": null,
      "outputs": [
        {
          "output_type": "stream",
          "text": [
            "[1023 5202 6230 1671 1682 5241 4532]\n",
            "[4532 5241 1682 1671 6230 5202 1023]\n",
            "The largest element of the student_id array is 6230\n",
            "The second largest element of the student_id array is 5241\n",
            "The third largest element of the student_id array is 5202\n"
          ],
          "name": "stdout"
        }
      ]
    },
    {
      "cell_type": "markdown",
      "metadata": {
        "id": "uKRyDVuW6B19"
      },
      "source": [
        "# **Q5: Write a numpy program to print sum of all the multiples of 3 or 5 below 100**"
      ]
    },
    {
      "cell_type": "code",
      "metadata": {
        "id": "ZIixq1gz6OK3",
        "colab": {
          "base_uri": "https://localhost:8080/"
        },
        "outputId": "461d6043-c09f-4d80-85bf-b2f16f1f1833"
      },
      "source": [
        "nArray = np.arange(1, 100)\n",
        "print(\"The sum of all the multiples of 3 or 5 below 100 is \" + str(np.sum(nArray[(nArray % 3 == 0) | (nArray % 5 == 0)])))"
      ],
      "execution_count": null,
      "outputs": [
        {
          "output_type": "stream",
          "text": [
            "The sum of all the multiples of 3 or 5 below 100 is 2318\n"
          ],
          "name": "stdout"
        }
      ]
    },
    {
      "cell_type": "markdown",
      "metadata": {
        "id": "2CWJOsP24c34"
      },
      "source": [
        "**Q6. Consider the below array.**\n",
        "\n",
        "Q6.1. Write a code to swap column 1 with column 2.\n",
        "\n",
        "Q6.2. Write a code to swap row 0 with row 1."
      ]
    },
    {
      "cell_type": "code",
      "metadata": {
        "id": "3OG6X5Eg5KSM",
        "colab": {
          "base_uri": "https://localhost:8080/"
        },
        "outputId": "b30dd062-de1e-4f14-ddae-aaef797625d3"
      },
      "source": [
        "import numpy as np\n",
        "\n",
        "arr = np.arange(12).reshape(3,4)\n",
        "print(arr)"
      ],
      "execution_count": null,
      "outputs": [
        {
          "output_type": "stream",
          "text": [
            "[[ 0  1  2  3]\n",
            " [ 4  5  6  7]\n",
            " [ 8  9 10 11]]\n"
          ],
          "name": "stdout"
        }
      ]
    },
    {
      "cell_type": "code",
      "metadata": {
        "id": "Q-Q91DpO5YYW"
      },
      "source": [
        "# Q6.1\n",
        "arr1 = arr[:, [0, 2, 1, 3]]\n",
        "print(arr1)\n",
        "\n",
        "print()\n",
        "\n",
        "# Q6.2\n",
        "arr2 = arr[[1, 0, 2], :]\n",
        "print(arr2)"
      ],
      "execution_count": null,
      "outputs": []
    }
  ]
}