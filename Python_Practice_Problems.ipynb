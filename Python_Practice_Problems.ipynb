{
  "nbformat": 4,
  "nbformat_minor": 0,
  "metadata": {
    "colab": {
      "name": "Python Practice Problems.ipynb",
      "provenance": [],
      "collapsed_sections": []
    },
    "kernelspec": {
      "name": "python3",
      "display_name": "Python 3"
    }
  },
  "cells": [
    {
      "cell_type": "markdown",
      "metadata": {
        "id": "uacFrEaZfcfq"
      },
      "source": [
        "##### Q1. Write a program that prompts the user to enter a password then prints the length of the password.\n",
        "\n",
        "```\n",
        "Enter your password: hello\n",
        "Your password is 5 long.\n",
        "```\n",
        "\n",
        "\n"
      ]
    },
    {
      "cell_type": "code",
      "metadata": {
        "id": "avPyES14ftCt",
        "colab": {
          "base_uri": "https://localhost:8080/"
        },
        "outputId": "bf49fc7a-2f1d-4b0d-c941-135f67c92a9b"
      },
      "source": [
        "# Type solution here\n",
        "Password = input(\"Enter you password: \")\n",
        "print(\"Your password is \" + str(len(Password)) + \" long.\");"
      ],
      "execution_count": null,
      "outputs": [
        {
          "output_type": "stream",
          "text": [
            "Enter you password: hersa\n",
            "Your password is 5 long.\n"
          ],
          "name": "stdout"
        }
      ]
    },
    {
      "cell_type": "markdown",
      "metadata": {
        "id": "behD0j_Of2TW"
      },
      "source": [
        "##### Q2. Write a program that prompts the user to enter their full name then prints the number of characters in their name (do not count spaces).\n",
        "\n",
        "```\n",
        "What is your name? Amulya Katti\n",
        "Amulya Katti your name has 11 characters.\n",
        "```"
      ]
    },
    {
      "cell_type": "code",
      "metadata": {
        "id": "XSdIRjwlhSlu"
      },
      "source": [
        "# Type solution here\n",
        "userName = input(\"What is your name? \")\n",
        "# Use strip() and replace() to eliminate all the white spaces\n",
        "print(userName.strip() + \" your name has \" + str(len(userName.replace(\" \", \"\"))) + \" characters.\"); "
      ],
      "execution_count": null,
      "outputs": []
    },
    {
      "cell_type": "markdown",
      "metadata": {
        "id": "5KHOWF6FhVHV"
      },
      "source": [
        "##### Q3. Write a program that prompts the user to enter a month (as a number), then prints the name of the month and the number of days in that month. Ensure that the user inputs a valid month and handle any error cases.\n",
        "\n",
        "```\n",
        "Enter the month number: 9\n",
        "September has 30 days\n",
        "```"
      ]
    },
    {
      "cell_type": "code",
      "metadata": {
        "id": "KhS-SAEThyTG"
      },
      "source": [
        "month = input(\"Enter the month number: \")\n",
        "\n",
        "# Handle improper output\n",
        "while (not month.isdigit()) or (not (1 <= int(month) <= 12)):\n",
        "  month = input(\"Invalid input. Please enter the month number (1 - 12): \")\n",
        "\n",
        "month = int(month)\n",
        "\n",
        "if month == 1:\n",
        "  print('January has 31 days')\n",
        "elif month == 2:\n",
        "  print(\"Feburary has 28 or 29 days\")\n",
        "elif month == 3:\n",
        "  print(\"March has 31 days\")\n",
        "elif month == 4:\n",
        "  print(\"April has 30 days\")\n",
        "elif month == 5:\n",
        "  print(\"May has 31 days\")\n",
        "elif month == 6:\n",
        "  print(\"June has 30 days\")\n",
        "elif month == 7:\n",
        "  print(\"July has 31 days\")\n",
        "elif month == 8:\n",
        "  print(\"August has 31 days\")\n",
        "elif month == 9:\n",
        "  print(\"September has 30 days\")\n",
        "elif month == 10:\n",
        "  print(\"October has 31 days\")\n",
        "elif month == 11:\n",
        "  print(\"November has 30 days\")\n",
        "else:\n",
        "  print(\"December has 31 days\")"
      ],
      "execution_count": null,
      "outputs": []
    },
    {
      "cell_type": "markdown",
      "metadata": {
        "id": "O7lnAdGlh6Xa"
      },
      "source": [
        "##### Q4. Write a program that prompts the user to enter a loan amount, annual interest rate, and number of years  for a car loan. Then calculate and print the monthly payment amount.\n",
        "\n",
        "Note:\n",
        "```\n",
        "PMT= [PV*i*((1+i)^n)]/[((1+i)^n)-1]\n",
        "```\n",
        "PMT is the monthly payment\n",
        "\n",
        "PV is the loan amount\n",
        "\n",
        "i is the interest rate per month in decimal form (interest rate percentage divided by 12)\n",
        "\n",
        "n is the number of months (term of the loan in months)\n",
        "\n",
        "```\n",
        "Loan Amount: 30000.00\n",
        "Annual Interest Rate: 4.00\n",
        "Years: 5\n",
        "Your monthly payment is: $552.50\n",
        "```"
      ]
    },
    {
      "cell_type": "code",
      "metadata": {
        "id": "p4B5JH5GiTs9"
      },
      "source": [
        ".# Type solution here\n",
        "LA = float(input(\"Loan Amount: \"))\n",
        "ALR = float(input(\"Annual Interet Rate: \"))\n",
        "Yrs = int(input(\"Years: \"))\n",
        "\n",
        "# Since the input is in xxx.xx format for Loan Amount and Annual Interest Rate,\n",
        "# it might be a little bit too unnecessary to check for improper input format\n",
        "# as I alreay show such an ability in the previous question\n",
        "print(\"Your monthly payment is: \", end = '')\n",
        "print(str(\"{:.2f}\".format((LA * (ALR / 1200) * ((1 + ALR / 1200) ** (Yrs * 12))) / (((1 + ALR / 1200) ** (Yrs * 12) - 1)))))"
      ],
      "execution_count": null,
      "outputs": []
    },
    {
      "cell_type": "markdown",
      "metadata": {
        "id": "SjiolJKgiWV-"
      },
      "source": [
        "##### Q5. Write a program to that prompts the user to enter a string. Then check whether or not the string is a palindrome.\n",
        "\n",
        "```\n",
        "Enter a string: Madam\n",
        "Madam, is a palindrome!\n",
        "```"
      ]
    },
    {
      "cell_type": "code",
      "metadata": {
        "id": "F5_M934Ri0es"
      },
      "source": [
        "# Type solution here\n",
        "import sys\n",
        "userString = input(\"Enter a string: \")\n",
        "pal = True;\n",
        "\n",
        "for i in range(int(len(userString) / 2)):\n",
        "  if not userString[i].lower() == userString[len(userString) - i - 1].lower():\n",
        "    print(userString + \", is not a palindrome!\")\n",
        "    pal = False;\n",
        "    break\n",
        "\n",
        "if pal:\n",
        "  print(userString + \", is a palindrome!\")"
      ],
      "execution_count": null,
      "outputs": []
    },
    {
      "cell_type": "markdown",
      "metadata": {
        "id": "BLBD6n9vkJEu"
      },
      "source": [
        "##### Q6. Write a program to compute and print all possible combinations of change for \\$1. Denominations to be considered – quarter, dime, nickel, penny.\n",
        "\n",
        "Hint: Use nested loops (loops within loops for the various denominations of coins)\n",
        "\n",
        "```\n",
        "Change for $1:\n",
        "0 quarters, 0 dimes, 0 nickels, 100 pennies\n",
        "…\n",
        "4 quarters, 0 dimes, 0 nickels, 0 pennies\n",
        "```"
      ]
    },
    {
      "cell_type": "code",
      "metadata": {
        "id": "kAQsTjwDkZZ5"
      },
      "source": [
        "# Type solution here\n",
        "print(\"Change for $1: \")\n",
        "\n",
        "for quarters in range(5):\n",
        "  for dimes in range(11):\n",
        "    for nickels in range(21):\n",
        "      for pennies in range(101):\n",
        "        if (quarters * 25 + dimes * 10 + nickels * 5 + pennies == 100):\n",
        "          print(str(quarters) + \" quarters, \" + str(dimes) + \" dimes, \" + str(nickels) + \" nickels, \" + str(pennies) + \" pennies \")"
      ],
      "execution_count": null,
      "outputs": []
    },
    {
      "cell_type": "markdown",
      "metadata": {
        "id": "rUPDjYiIkbgs"
      },
      "source": [
        "##### Q7. Ask the user to enter two positive integers between 1 and 100. Read those integers. Then output a multiplication table of the first number times the second number. \n",
        "\n",
        "Note: You have to ensure the entered numbers are between 1 and 100 only.\n",
        "\n",
        "```\n",
        "Please enter an integer: 5\n",
        "Please enter another integer: 20\n",
        "5 x 1 = 5\n",
        "5 x 2 = 10\n",
        "5 x 3 = 15\n",
        "…\n",
        "5 x 20 = 100\n",
        "```"
      ]
    },
    {
      "cell_type": "code",
      "metadata": {
        "id": "Qg0Orv1klHzA"
      },
      "source": [
        "# Type solution here\n",
        "int1 = input(\"Please enter an integer: \")\n",
        "\n",
        "while not int1.isdigit() or not 1 <= int(int1) <= 100:\n",
        "  int1 = input(\"Invalid input. Please enter an integer between 1 - 100: \")\n",
        "\n",
        "int2 = input(\"Please enter another integer: \")\n",
        "\n",
        "while not int2.isdigit() or not 1 <= int(int2) <= 100:\n",
        "  int2 = input(\"Invalid input. Please enter an integer between 1 - 100: \")\n",
        "\n",
        "for i in range(1, int(int2) + 1):\n",
        "  print(int1 + \" x \" + str(i) + \" = \" + str(int(int1) * i))"
      ],
      "execution_count": null,
      "outputs": []
    },
    {
      "cell_type": "markdown",
      "metadata": {
        "id": "SbnbPUPTlLD9"
      },
      "source": [
        "##### Q8. Write a program to ask the user to enter a password. Then check to see if it is a valid password based on these requirements -\n",
        "\n",
        "Must be at least 8 characters long\n",
        "\n",
        "Must contain both uppercase and lowercase letters\n",
        "\n",
        "Must contain at least one number between 0-9\n",
        "\n",
        "Must contain a special character -!,@,#,$\n",
        "\n",
        "If the password is not valid, ask the user to re-enter. This should continue until the user enters a valid password. After a valid password is entered, print Access Granted!\n",
        "\n",
        "```\n",
        "Please enter a password. Follow these requirements - \n",
        "a. Must be at least 8 characters long\n",
        "b. Must contain both uppercase and lowercase letters\n",
        "c. Must contain at least one number between 0-9\n",
        "d. Must contain a special character -!,@,#,$\n",
        "Password: HelloWorld1\n",
        "Invalid password. Try again!\n",
        "Password: Hello@World1\n",
        "Access Granted!\n",
        "```\n"
      ]
    },
    {
      "cell_type": "code",
      "metadata": {
        "id": "OXmZ177Rl-RV"
      },
      "source": [
        "# Type solution here\n",
        "# Check if the input string contains any digits between 0 - 9\n",
        "def contains_digit(s):\n",
        "  return any(i.isdigit() for i in s) \n",
        "\n",
        "# Check if the input string contains both lowercase and uppercase letters\n",
        "def contains_upper_and_lower(s):\n",
        "  return any(i.isupper() for i in s) and any(j.islower() for j in s)\n",
        "\n",
        "# Check if the input string contains any special characters\n",
        "def contains_special_characters(s):\n",
        "  for i in s:\n",
        "    if not i.isdigit() and not i.isalpha():\n",
        "      return True;\n",
        "  \n",
        "  return False;\n",
        "\n",
        "Password = input(\"Password: \")\n",
        "\n",
        "while len(Password) < 8 or not contains_digit(Password) or not contains_upper_and_lower(Password) or (not contains_special_characters(Password)):\n",
        "  print(\"Invalid password. Try again!\")\n",
        "  Password = input(\"Password: \")\n",
        "\n",
        "print(\"Access Granted!\")"
      ],
      "execution_count": null,
      "outputs": []
    },
    {
      "cell_type": "markdown",
      "metadata": {
        "id": "-0sdutTDnTKA"
      },
      "source": [
        "##### Q9. Given the score sheet of participants in a competition, you are required to find the runner-up score. You are given scores in a list. Find the score of the runner-up.\n",
        "\n",
        "```\n",
        "list1 - [2, 3, 6, 6, 5]\n",
        "runner_up - 5\n",
        "\n",
        "list2 - [1, 7, 5, 3, 10, 4, 5, 5, 6, 11]\n",
        "runner_up - 10\n",
        "```"
      ]
    },
    {
      "cell_type": "code",
      "metadata": {
        "id": "12YP9OaqpGRK"
      },
      "source": [
        "# Type solution here\n",
        "userList = []\n",
        "tempList = []\n",
        "\n",
        "endInput = False;\n",
        "\n",
        "# For the users to type in the scores of participants\n",
        "while not endInput:\n",
        "  num = input(\"Please enter the score of a participant (or type in 'end' to terminate): \")\n",
        "  if num.isalpha() and num.lower() == \"end\":\n",
        "    break\n",
        "  elif not num.isdigit():\n",
        "    print(\"Invalid Input.\")\n",
        "  else:\n",
        "    userList.append(int(num))\n",
        "  \n",
        "    if int(num) not in tempList:\n",
        "      tempList.append(int(num))\n",
        "\n",
        "# Print the user's entered list (under different input conditions)\n",
        "if not len(userList):\n",
        "  print(\"You did not enter any participant's score.\")\n",
        "elif len(userList) == 1:\n",
        "  print(\"You only entered one participant's score. He / She gets \" + str(userList[0]) + \" point(s).\")\n",
        "elif len(tempList) == 1:\n",
        "  print(\"list -5 \", end = '')\n",
        "  print(userList)\n",
        "  print('runner_up - ' + str(tempList[0]))\n",
        "else:\n",
        "  print(\"list - \", end = '')\n",
        "  print(userList)\n",
        "  print('runner_up - ', end = '')\n",
        "  tempList.sort(reverse = True)\n",
        "  print(tempList[1])"
      ],
      "execution_count": null,
      "outputs": []
    }
  ]
}